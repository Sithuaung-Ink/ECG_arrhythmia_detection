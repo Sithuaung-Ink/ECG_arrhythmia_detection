{
 "cells": [
  {
   "cell_type": "code",
   "execution_count": 1,
   "id": "e97118b7",
   "metadata": {},
   "outputs": [],
   "source": [
    "%matplotlib inline\n",
    "import wfdb\n",
    "import matplotlib.pyplot as plt"
   ]
  },
  {
   "cell_type": "code",
   "execution_count": 2,
   "id": "e689e753",
   "metadata": {},
   "outputs": [],
   "source": [
    "def read_ecg(file_path):\n",
    "    \"\"\"\n",
    "    output: ecg files, get signal, annotated peaks, annotated types\n",
    "    input: ecg file id\n",
    "    \"\"\"\n",
    "    signals, fields = wfdb.rdsamp(file_path)\n",
    "    annotation = wfdb.rdann(file_path, 'atr')\n",
    "    ecg_sig = signals[:,0]\n",
    "    ecg_type = annotation.symbol\n",
    "    ecg_peak = annotation.sample\n",
    "    return ecg_sig, ecg_type, ecg_peak\n",
    "\n",
    "def plot_ecg(ecg_sig, ecg_type, ecg_peak, title='Fig: Train', npeak=10, len_sig=3000):\n",
    "    \"\"\"\n",
    "    demo plot ecg signal with annotated peaks, annotated types\n",
    "    \"\"\"\n",
    "    _, ax = plt.subplots()\n",
    "    for i in range(0, npeak):\n",
    "        ax.annotate(ecg_type[i], xy=(ecg_peak[i], -2))\n",
    "    ax.plot(ecg_sig[0:len_sig])\n",
    "    ax.plot(ecg_peak[0:npeak], ecg_sig[ecg_peak[0:npeak]], '*')\n",
    "    ax.set_title(title)"
   ]
  },
  {
   "cell_type": "code",
   "execution_count": 3,
   "id": "5e48fe2c",
   "metadata": {},
   "outputs": [
    {
     "data": {
      "image/png": "[encoded data removed]",
      "text/plain": [
       "<Figure size 432x288 with 1 Axes>"
      ]
     },
     "metadata": {
      "needs_background": "light"
     },
     "output_type": "display_data"
    }
   ],
   "source": [
    "training_file_path = './database/train/a4'\n",
    "ecg_sig, ecg_type, ecg_peak = read_ecg(training_file_path)\n",
    "plot_ecg(ecg_sig, ecg_type, ecg_peak)"
   ]
  },
  {
   "cell_type": "code",
   "execution_count": 4,
   "id": "32e8e82a",
   "metadata": {},
   "outputs": [
    {
     "data": {
      "text/plain": [
       "650000"
      ]
     },
     "execution_count": 4,
     "metadata": {},
     "output_type": "execute_result"
    }
   ],
   "source": [
    "len(ecg_sig)"
   ]
  },
  {
   "cell_type": "code",
   "execution_count": 5,
   "id": "3486bcd3",
   "metadata": {},
   "outputs": [
    {
     "data": {
      "text/plain": [
       "2094"
      ]
     },
     "execution_count": 5,
     "metadata": {},
     "output_type": "execute_result"
    }
   ],
   "source": [
    "len(ecg_type)"
   ]
  },
  {
   "cell_type": "code",
   "execution_count": 6,
   "id": "34c0dcf9",
   "metadata": {},
   "outputs": [
    {
     "data": {
      "text/plain": [
       "2094"
      ]
     },
     "execution_count": 6,
     "metadata": {},
     "output_type": "execute_result"
    }
   ],
   "source": [
    "len(ecg_peak)"
   ]
  },
  {
   "cell_type": "code",
   "execution_count": 8,
   "id": "39381d1a",
   "metadata": {},
   "outputs": [],
   "source": [
    "import numpy as np\n",
    "mean_list = []\n",
    "for idx, data in enumerate(ecg_peak):\n",
    "    if(idx==0):\n",
    "        mean_list.append(np.mean(ecg_sig[0:ecg_peak[idx]]))\n",
    "    else:\n",
    "        mean_list.append(np.mean(ecg_sig[ecg_peak[idx-1]:ecg_peak[idx]]))\n",
    "    #print(mean_list)"
   ]
  },
  {
   "cell_type": "code",
   "execution_count": null,
   "id": "1510edd8",
   "metadata": {},
   "outputs": [],
   "source": [
    "from scipy.stats import entropy\n",
    "\n",
    "entropy_list = []\n",
    "for idx, data in enumerate(ecg_peak):\n",
    "    if (idx == 0):\n",
    "        entropy_list.append(entropy(ecg_sig[0:ecg_peak[idx]], base = 10))\n",
    "    else:\n",
    "        entropy_list.append(entropy(ecg_sig[ecg_peak[idx-1]:ecg_peak[idx]]))"
   ]
  },
  {
   "cell_type": "code",
   "execution_count": null,
   "id": "9ce00efb",
   "metadata": {},
   "outputs": [],
   "source": [
    "entropy_list[0:50]"
   ]
  },
  {
   "cell_type": "code",
   "execution_count": null,
   "id": "011b9dd6",
   "metadata": {},
   "outputs": [],
   "source": [
    "print(mean_list)"
   ]
  },
  {
   "cell_type": "code",
   "execution_count": null,
   "id": "a4a0c5a8",
   "metadata": {},
   "outputs": [],
   "source": [
    "def cal_mean(data_array):\n",
    "    mean_list = []\n",
    "    for idx, data in enumerate(data_array):\n",
    "        if (idx == 0):\n",
    "            mean_list.append(np.mean(data_array[0:ecg_peak[idx]]))\n",
    "        else:\n",
    "            mean_list.append(np.mean(data_array([idx-1]:data_array[idx])))\n",
    "            \n",
    "        return mean_list\n",
    "    \n",
    "def cal_mean(data_array):\n",
    "    mean_list = []\n",
    "    for idx, data in enumerate(data_array):\n",
    "        if (idx == 0):\n",
    "            mean_list.append(np.mean(data_array[0:ecg_peak[idx]]))\n",
    "        else:\n",
    "            mean_list.append(np.mean(data_array([idx-1]:data_array[idx])))\n",
    "            \n",
    "        return mean_list\n",
    "    \n",
    "def cal_mean(data_array):\n",
    "    mean_list = []\n",
    "    for idx, data in enumerate(data_array):\n",
    "        if (idx == 0):\n",
    "            mean_list.append(np.mean(data_array[0:ecg_peak[idx]]))\n",
    "        else:\n",
    "            mean_list.append(np.mean(data_array([idx-1]:data_array[idx])))\n",
    "            \n",
    "        return mean_list"
   ]
  },
  {
   "cell_type": "code",
   "execution_count": null,
   "id": "5ed6c7e0",
   "metadata": {},
   "outputs": [],
   "source": [
    "first_matrix = ecg_sig[0:649140]"
   ]
  },
  {
   "cell_type": "code",
   "execution_count": null,
   "id": "753cd936",
   "metadata": {},
   "outputs": [],
   "source": [
    "sample_matrix = np.reshape(first_matrix, (2094, 310))"
   ]
  },
  {
   "cell_type": "code",
   "execution_count": null,
   "id": "def8fa7f",
   "metadata": {},
   "outputs": [],
   "source": [
    "sample_mean_matrix = np.mean(sample_matrix, axis=1)\n",
    "sample_median_matrix = np.median(sample_matrix, axis=1)\n",
    "sample_std_matrix = np.std(sample_matrix, axis=1)"
   ]
  },
  {
   "cell_type": "code",
   "execution_count": null,
   "id": "543de3b6",
   "metadata": {},
   "outputs": [],
   "source": [
    "len(sample_mean_matrix)"
   ]
  },
  {
   "cell_type": "code",
   "execution_count": null,
   "id": "366d0df0",
   "metadata": {},
   "outputs": [],
   "source": [
    "sample_matrix = np.array([sample_mean_matrix, sample_median_matrix, sample_std_matrix, ecg_type])\n",
    "sample_matrix = np.transpose(sample_matrix)"
   ]
  },
  {
   "cell_type": "code",
   "execution_count": null,
   "id": "c550d446",
   "metadata": {},
   "outputs": [],
   "source": [
    "import pandas as pd\n",
    "df = pd.DataFrame(sample_matrix, columns = ['Mean','Median','Standard Deviation', 'Target'])\n",
    "\n",
    "df.head(10)"
   ]
  },
  {
   "cell_type": "code",
   "execution_count": null,
   "id": "fc9dc5f7",
   "metadata": {},
   "outputs": [],
   "source": [
    "df['Target'].replace(to_replace=['N','V','+','~'], value =[0,1,0,0], inplace = True)\n",
    "df.head(10)"
   ]
  },
  {
   "cell_type": "code",
   "execution_count": null,
   "id": "2ee88b77",
   "metadata": {},
   "outputs": [],
   "source": [
    "X = df[['Mean','Median','Standard Deviation']]\n",
    "df['Target'] = pd.to_numeric(df['Target'])\n",
    "y = df['Target']\n",
    "y[0:5]"
   ]
  },
  {
   "cell_type": "code",
   "execution_count": null,
   "id": "31e34782",
   "metadata": {},
   "outputs": [],
   "source": [
    "from sklearn import preprocessing\n",
    "from sklearn.model_selection import train_test_split\n",
    "from sklearn.model_selection import GridSearchCV\n",
    "X= preprocessing.StandardScaler().fit(X).transform(X)"
   ]
  },
  {
   "cell_type": "code",
   "execution_count": null,
   "id": "d27c7b5f",
   "metadata": {},
   "outputs": [],
   "source": [
    "X_train, X_eval, Y_train, Y_eval = train_test_split( X, y, test_size=0.2, random_state=2)\n",
    "print ('Train set:', X_train.shape,  Y_train.shape)\n",
    "print ('Test set:', X_eval.shape,  Y_eval.shape)"
   ]
  },
  {
   "cell_type": "markdown",
   "id": "287c373f",
   "metadata": {},
   "source": [
    "# Logistic Regression"
   ]
  },
  {
   "cell_type": "code",
   "execution_count": null,
   "id": "2ed7d68f",
   "metadata": {},
   "outputs": [],
   "source": [
    "from sklearn.linear_model import LogisticRegression\n",
    "parameters ={'C':[0.01,0.1,1],\n",
    "             'penalty':['l2'],\n",
    "             'solver':['lbfgs']}"
   ]
  },
  {
   "cell_type": "code",
   "execution_count": null,
   "id": "bfb39881",
   "metadata": {},
   "outputs": [],
   "source": [
    "parameters ={\"C\":[0.01,0.1,1],'penalty':['l2'], 'solver':['lbfgs']}# l1 lasso l2 ridge\n",
    "lr=LogisticRegression()"
   ]
  },
  {
   "cell_type": "code",
   "execution_count": null,
   "id": "1b7c999e",
   "metadata": {},
   "outputs": [],
   "source": [
    "logreg_cv = GridSearchCV(lr, parameters)\n",
    "logreg_cv.fit(X_train,Y_train)"
   ]
  },
  {
   "cell_type": "code",
   "execution_count": null,
   "id": "f9845ae6",
   "metadata": {},
   "outputs": [],
   "source": [
    "print(\"tuned hpyerparameters :(best parameters) \",logreg_cv.best_params_)\n",
    "print(\"accuracy :\",logreg_cv.best_score_)"
   ]
  },
  {
   "cell_type": "code",
   "execution_count": null,
   "id": "8655718b",
   "metadata": {},
   "outputs": [],
   "source": [
    "yhat_logreg = logreg_cv.predict(X_eval)\n",
    "yhat_logreg[0:5]"
   ]
  },
  {
   "cell_type": "code",
   "execution_count": null,
   "id": "3ac6ed70",
   "metadata": {},
   "outputs": [],
   "source": [
    "from sklearn import metrics\n",
    "print(\"Test set Accuracy: \", metrics.accuracy_score(Y_eval, yhat_logreg))"
   ]
  },
  {
   "cell_type": "code",
   "execution_count": null,
   "id": "106cf2e0",
   "metadata": {},
   "outputs": [],
   "source": [
    "X_test = [-1, -2, -3]\n",
    "print(logreg_cv.predict(preprocessing.StandardScaler().fit([[-1, -2, -3]]).transform([[-1, -2, -3]])))"
   ]
  },
  {
   "cell_type": "markdown",
   "id": "abde5e5a",
   "metadata": {},
   "source": [
    "# SVM"
   ]
  },
  {
   "cell_type": "code",
   "execution_count": null,
   "id": "918e01f6",
   "metadata": {},
   "outputs": [],
   "source": [
    "from sklearn.svm import SVC\n",
    "parameters = {'kernel':('linear', 'rbf','poly','rbf', 'sigmoid'),\n",
    "              'C': np.logspace(-3, 3, 5),\n",
    "              'gamma':np.logspace(-3, 3, 5)}\n",
    "svm = SVC()"
   ]
  },
  {
   "cell_type": "code",
   "execution_count": null,
   "id": "793c7293",
   "metadata": {},
   "outputs": [],
   "source": [
    "svm_cv = GridSearchCV(svm, parameters)\n",
    "svm_cv.fit(X_train,Y_train)"
   ]
  },
  {
   "cell_type": "code",
   "execution_count": null,
   "id": "fa2f3c31",
   "metadata": {},
   "outputs": [],
   "source": [
    "print(\"tuned hpyerparameters :(best parameters) \",svm_cv.best_params_)\n",
    "print(\"accuracy :\",svm_cv.best_score_)"
   ]
  },
  {
   "cell_type": "code",
   "execution_count": null,
   "id": "acbf6c5a",
   "metadata": {},
   "outputs": [],
   "source": [
    "yhat_svm = svm_cv.predict(X_eval)\n",
    "yhat_svm[0:5]"
   ]
  },
  {
   "cell_type": "code",
   "execution_count": null,
   "id": "3af1e60f",
   "metadata": {},
   "outputs": [],
   "source": [
    "print(\"Test set Accuracy: \", metrics.accuracy_score(Y_eval, yhat_svm))"
   ]
  },
  {
   "cell_type": "markdown",
   "id": "0e11bbd5",
   "metadata": {},
   "source": [
    "# kNN"
   ]
  },
  {
   "cell_type": "code",
   "execution_count": null,
   "id": "02ce8f44",
   "metadata": {},
   "outputs": [],
   "source": [
    "from sklearn.neighbors import KNeighborsClassifier\n",
    "parameters = {'n_neighbors': [1, 2, 3, 4, 5, 6, 7, 8, 9, 10],\n",
    "              'algorithm': ['auto', 'ball_tree', 'kd_tree', 'brute'],\n",
    "              'p': [1,2]}\n",
    "\n",
    "KNN = KNeighborsClassifier()"
   ]
  },
  {
   "cell_type": "code",
   "execution_count": null,
   "id": "349273a8",
   "metadata": {},
   "outputs": [],
   "source": [
    "knn_cv = GridSearchCV(KNN, parameters)\n",
    "knn_cv.fit(X_train,Y_train)"
   ]
  },
  {
   "cell_type": "code",
   "execution_count": null,
   "id": "dd8c947e",
   "metadata": {},
   "outputs": [],
   "source": [
    "print(\"tuned hpyerparameters :(best parameters) \",knn_cv.best_params_)\n",
    "print(\"accuracy :\",knn_cv.best_score_)"
   ]
  },
  {
   "cell_type": "code",
   "execution_count": null,
   "id": "5441cf90",
   "metadata": {},
   "outputs": [],
   "source": [
    "yhat_knn = knn_cv.predict(X_eval)\n",
    "yhat_knn[0:5]"
   ]
  },
  {
   "cell_type": "code",
   "execution_count": null,
   "id": "1a83b642",
   "metadata": {},
   "outputs": [],
   "source": [
    "print(\"Test set Accuracy: \", metrics.accuracy_score(Y_eval, yhat_knn))"
   ]
  },
  {
   "cell_type": "markdown",
   "id": "daa5505a",
   "metadata": {},
   "source": [
    "# Performance Measure"
   ]
  },
  {
   "cell_type": "code",
   "execution_count": null,
   "id": "c6ea7dda",
   "metadata": {},
   "outputs": [],
   "source": [
    "Acc_logreg = metrics.accuracy_score(Y_eval, yhat_logreg)\n",
    "#Acc_svm = metrics.accuracy_score(Y_eval, yhat_svm)\n",
    "Acc_knn = metrics.accuracy_score(Y_eval, yhat_knn)\n",
    "Accuracy = [Acc_logreg, Acc_knn]\n",
    "\n",
    "df_score = {'Algorithm': ['LogisticRegression', 'kNN'], 'Accuracy': Accuracy}\n",
    "Perform_measure = pd.DataFrame(data = df_score, columns = ['Algorithm', 'Accuracy'], index = None)\n",
    "Perform_measure"
   ]
  },
  {
   "cell_type": "code",
   "execution_count": null,
   "id": "6a83e629",
   "metadata": {},
   "outputs": [],
   "source": [
    "# Importing the Keras libraries and packages\n",
    "import keras\n",
    "from keras.models import Sequential\n",
    "from keras.layers import Dense\n",
    "\n",
    "# Initialising the ANN\n",
    "classifier = Sequential()\n",
    "\n",
    "# Adding the input layer and the first hidden layer\n",
    "classifier.add(Dense(activation=\"relu\", input_dim=3, units=5, kernel_initializer=\"uniform\"))\n",
    "\n",
    "# Adding the second hidden layer\n",
    "classifier.add(Dense(activation=\"relu\",units=5, kernel_initializer=\"uniform\"))\n",
    "\n",
    "# Adding the output layer\n",
    "classifier.add(Dense(activation=\"sigmoid\", kernel_initializer=\"uniform\", units=1))\n",
    "\n",
    "# Compiling the ANN\n",
    "classifier.compile(optimizer = 'adam', loss = 'binary_crossentropy', metrics = ['accuracy'])\n",
    "\n",
    "# Fitting the ANN to the Training set\n",
    "classifier.fit(X_train, Y_train, batch_size = 10, epochs = 100)"
   ]
  },
  {
   "cell_type": "code",
   "execution_count": null,
   "id": "9cb7ffc6",
   "metadata": {},
   "outputs": [],
   "source": [
    "# Making the predictions and evaluating the model\n",
    "\n",
    "# Predicting the Test set results\n",
    "Y_pred = classifier.predict(X_eval)\n",
    "Y_pred = (Y_pred > 0.5)\n",
    "\n",
    "# Making the Confusion Matrix\n",
    "from sklearn.metrics import confusion_matrix\n",
    "cm = confusion_matrix(Y_eval, Y_pred)\n",
    "\n",
    "from sklearn import metrics\n",
    "print(\"Test set Accuracy: \", metrics.accuracy_score(Y_eval, Y_pred))"
   ]
  },
  {
   "cell_type": "code",
   "execution_count": null,
   "id": "fb6dc9d6",
   "metadata": {},
   "outputs": [],
   "source": [
    "Acc_logreg = metrics.accuracy_score(Y_eval, yhat_logreg)\n",
    "#Acc_svm = metrics.accuracy_score(Y_test, yhat_svm)\n",
    "Acc_knn = metrics.accuracy_score(Y_eval, yhat_knn)\n",
    "Acc_ANN = metrics.accuracy_score(Y_eval, Y_pred)\n",
    "Accuracy = [Acc_logreg, Acc_knn, Acc_ANN]\n",
    "\n",
    "df_score = {'Algorithm': ['logreg', 'kNN', 'ANN'], 'Accuracy': Accuracy}\n",
    "Perform_measure = pd.DataFrame(data = df_score, columns = ['Algorithm', 'Accuracy'], index = None)\n",
    "Perform_measure"
   ]
  },
  {
   "cell_type": "code",
   "execution_count": null,
   "id": "52ea7da9",
   "metadata": {},
   "outputs": [],
   "source": []
  }
 ],
 "metadata": {
  "kernelspec": {
   "display_name": "Python 3 (ipykernel)",
   "language": "python",
   "name": "python3"
  },
  "language_info": {
   "codemirror_mode": {
    "name": "ipython",
    "version": 3
   },
   "file_extension": ".py",
   "mimetype": "text/x-python",
   "name": "python",
   "nbconvert_exporter": "python",
   "pygments_lexer": "ipython3",
   "version": "3.9.7"
  }
 },
 "nbformat": 4,
 "nbformat_minor": 5
}
